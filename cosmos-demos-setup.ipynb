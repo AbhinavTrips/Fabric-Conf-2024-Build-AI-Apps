{
 "cells": [
  {
   "cell_type": "markdown",
   "metadata": {},
   "source": [
    "# Setup, Vectorize and Load Data\n",
    "\n",
    "In this tutorial, we'll demonstrate how to leverage a sample dataset stored in Azure Cosmos DB for MongoDB vCore to ground OpenAI models. We'll do this taking advantage of Azure Cosmos DB for Mongo DB vCore's [vector similarity search](https://learn.microsoft.com/azure/cosmos-db/mongodb/vcore/vector-search) functionality. In the end, we'll create an interatice chat session with the GPT-3.5 completions model to answer questions about Azure services informed by our dataset. This process is known as Retrieval Augmented Generation, or RAG."
   ]
  },
  {
   "cell_type": "code",
   "execution_count": null,
   "metadata": {},
   "outputs": [],
   "source": [
    "! pip install openai\n",
    "! pip install pymongo\n",
    "! pip install python-dotenv\n",
    "! pip install azure-storage-blob\n",
    "! pip install ijson"
   ]
  },
  {
   "cell_type": "code",
   "execution_count": 3,
   "metadata": {},
   "outputs": [],
   "source": [
    "import json\n",
    "import pymongo\n",
    "import ijson\n",
    "from azure.storage.blob import BlobServiceClient\n",
    "from openai import AzureOpenAI\n",
    "from dotenv import dotenv_values\n"
   ]
  },
  {
   "cell_type": "markdown",
   "metadata": {},
   "source": [
    "# Load environment values and intantiate clients"
   ]
  },
  {
   "cell_type": "code",
   "execution_count": 4,
   "metadata": {},
   "outputs": [],
   "source": [
    "\n",
    "# specify the name of the .env file name \n",
    "env_name = \"fabcondemo.env\" # following example.env template change to your own .env file name\n",
    "config = dotenv_values(env_name)\n",
    "\n",
    "mongo_conn = config['mongo_connection_string']\n",
    "mongo_database = config['mongo_database_name']\n",
    "mongo_products_collection = config['mongo_collection_name']\n",
    "mongo_cache_collection = config['mongo_cache_collection_name']\n",
    "# Create the MongoDB client\n",
    "mongo_client = pymongo.MongoClient(mongo_conn)\n",
    "\n",
    "storage_account_url = config['storage_account_url']\n",
    "storage_container_name = config['storage_container_name']\n",
    "storage_file_name = config['storage_file_name']\n",
    "# Create the blob client\n",
    "blob_service_client = BlobServiceClient(account_url = storage_account_url)\n",
    "blob_client = blob_service_client.get_blob_client( storage_container_name, storage_file_name)\n",
    "\n",
    "openai_endpoint = config['openai_endpoint']\n",
    "openai_key = config['openai_key']\n",
    "openai_version = config['openai_version']\n",
    "openai_embeddings_deployment = config['openai_embeddings_deployment']\n",
    "openai_embeddings_model = config['openai_embeddings_model']\n",
    "openai_embeddings_dimensions = int(config['openai_embeddings_dimensions'])\n",
    "openai_completions_deployment = config['openai_completions_deployment']\n",
    "openai_completions_model = config['openai_completions_model']\n",
    "# Create the OpenAI client\n",
    "openai_client = AzureOpenAI(azure_endpoint=openai_endpoint, api_key=openai_key, api_version=openai_version)\n"
   ]
  },
  {
   "cell_type": "markdown",
   "metadata": {},
   "source": [
    "#  Set up the MongoDB vCore database and collection"
   ]
  },
  {
   "cell_type": "code",
   "execution_count": 5,
   "metadata": {},
   "outputs": [],
   "source": [
    "def create_collection_and_vector_index(database, collection_name):\n",
    "\n",
    "    collection = database[collection_name]\n",
    "\n",
    "    database.command(\n",
    "    {\n",
    "        \"createIndexes\": collection_name,\n",
    "        \"indexes\": [\n",
    "            {\n",
    "                \"name\": \"VectorSearchIndex\",\n",
    "                \"key\": {\n",
    "                    \"contentVector\": \"cosmosSearch\"\n",
    "                },\n",
    "                \"cosmosSearchOptions\": { \n",
    "                    \"kind\": \"vector-hnsw\", \n",
    "                    \"m\": 16, # default value \n",
    "                    \"efConstruction\": 64, # default value \n",
    "                    \"similarity\": \"COS\", \n",
    "                    \"dimensions\": openai_embeddings_dimensions\n",
    "                } \n",
    "            } \n",
    "        ] \n",
    "    }\n",
    "    )\n",
    "\n",
    "    return collection\n",
    "    "
   ]
  },
  {
   "cell_type": "code",
   "execution_count": 6,
   "metadata": {},
   "outputs": [],
   "source": [
    "\n",
    "# Check if the collection database and drop if it does\n",
    "if mongo_database in mongo_client.list_database_names():\n",
    "    mongo_client.drop_database(mongo_database)\n",
    "\n",
    "# Create the database FabConfDB\n",
    "db = mongo_client[mongo_database]\n",
    "\n",
    "# Create the collection with vector index\n",
    "products_collection = create_collection_and_vector_index(db, mongo_products_collection)\n",
    "\n",
    "# Create the cache collection with vector index\n",
    "cache_collection = create_collection_and_vector_index(db, mongo_cache_collection)\n"
   ]
  },
  {
   "cell_type": "code",
   "execution_count": 7,
   "metadata": {},
   "outputs": [],
   "source": [
    "def generate_embeddings(text):\n",
    "    '''\n",
    "    Generate embeddings from string of text.\n",
    "    This will be used to vectorize data and user input for interactions with Azure OpenAI.\n",
    "    '''\n",
    "    # OpenAI asks for a model but it's actually a deployment.\n",
    "    response = openai_client.embeddings.create(input = text, model = openai_embeddings_deployment, dimensions= openai_embeddings_dimensions)\n",
    "    \n",
    "    embeddings = response.model_dump()\n",
    "    return embeddings['data'][0]['embedding']"
   ]
  },
  {
   "cell_type": "markdown",
   "metadata": {},
   "source": [
    "# Ingest, vectorize & store\n",
    "\n",
    "Read the data out of blob storage, generate vectors on it, then store in Mongo vCore"
   ]
  },
  {
   "cell_type": "code",
   "execution_count": null,
   "metadata": {},
   "outputs": [],
   "source": [
    "\n",
    "# Download the blob to a stream\n",
    "stream = blob_client.download_blob().readall()\n",
    "\n",
    "# Use ijson to parse the json file incrementally\n",
    "objects = ijson.items(stream, 'item')\n",
    "\n",
    "for obj in objects:\n",
    "    # serialize the object to a string\n",
    "    sObject = json.dumps(obj)\n",
    "    \n",
    "    # generate an embedding for each object\n",
    "    vectorArray = generate_embeddings(sObject)\n",
    "\n",
    "    # add the embedding to the object\n",
    "    obj[\"contentVector\"] = vectorArray\n",
    "\n",
    "    # insert the object into the collection\n",
    "    products_collection.insert_one(obj)\n",
    "\n",
    "print(\"Data inserted into collection: '{}'.\\n\".format(products_collection.name))"
   ]
  }
 ],
 "metadata": {
  "kernelspec": {
   "display_name": ".venv",
   "language": "python",
   "name": "python3"
  },
  "language_info": {
   "codemirror_mode": {
    "name": "ipython",
    "version": 3
   },
   "file_extension": ".py",
   "mimetype": "text/x-python",
   "name": "python",
   "nbconvert_exporter": "python",
   "pygments_lexer": "ipython3",
   "version": "3.11.8"
  }
 },
 "nbformat": 4,
 "nbformat_minor": 2
}
