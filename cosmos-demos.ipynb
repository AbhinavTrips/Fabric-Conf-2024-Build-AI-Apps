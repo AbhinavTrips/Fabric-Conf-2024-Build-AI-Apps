{
 "cells": [
  {
   "cell_type": "markdown",
   "metadata": {},
   "source": [
    "# Introduction\n",
    "\n",
    "In this tutorial, we'll demonstrate how to leverage a sample dataset stored in Azure Cosmos DB for MongoDB vCore to ground OpenAI models. We'll do this taking advantage of Azure Cosmos DB for Mongo DB vCore's [vector similarity search](https://learn.microsoft.com/azure/cosmos-db/mongodb/vcore/vector-search) functionality. In the end, we'll create an interatice chat session with the GPT-3.5 completions model to answer questions about Azure services informed by our dataset. This process is known as Retrieval Augmented Generation, or RAG.\n",
    "\n",
    "This tutorial borrows some code snippets and example data from the Azure Cognitive Search Vector Search demo "
   ]
  },
  {
   "cell_type": "markdown",
   "metadata": {},
   "source": [
    "# Preliminaries <a class=\"anchor\" id=\"preliminaries\"></a>\n",
    "First, let's start by installing the packages that we'll need later. "
   ]
  },
  {
   "cell_type": "code",
   "execution_count": null,
   "metadata": {},
   "outputs": [],
   "source": [
    "! pip install numpy\n",
    "! pip install openai\n",
    "! pip install pymongo\n",
    "! pip install python-dotenv\n",
    "! pip install azure-core\n",
    "! pip install azure-cosmos\n",
    "! pip install azure-storage-blob\n",
    "! pip install json\n",
    "! pip install ijson\n",
    "! pip install tenacity"
   ]
  },
  {
   "cell_type": "code",
   "execution_count": 3,
   "metadata": {},
   "outputs": [],
   "source": [
    "import json\n",
    "import datetime\n",
    "import time\n",
    "\n",
    "from azure.core.exceptions import AzureError\n",
    "from azure.core.credentials import AzureKeyCredential\n",
    "import pymongo\n",
    "\n",
    "from azure.storage.blob import BlobServiceClient, BlobClient, ContainerClient, PublicAccess\n",
    "import ijson\n",
    "\n",
    "from openai import AzureOpenAI\n",
    "from dotenv import load_dotenv\n",
    "from tenacity import retry, wait_random_exponential, stop_after_attempt"
   ]
  },
  {
   "cell_type": "markdown",
   "metadata": {},
   "source": [
    "Please use the example.env as a template to provide the necessary keys and endpoints in your own .env file.\n",
    "Make sure to modify the env_name accordingly. "
   ]
  },
  {
   "cell_type": "code",
   "execution_count": 4,
   "metadata": {},
   "outputs": [],
   "source": [
    "from dotenv import dotenv_values\n",
    "\n",
    "# specify the name of the .env file name \n",
    "env_name = \"fabcondemo.env\" # following example.env template change to your own .env file name\n",
    "config = dotenv_values(env_name)\n",
    "\n",
    "\n",
    "mongo_conn = config['mongo_connection_string']\n",
    "mongo_database = config['mongo_database_name']\n",
    "mongo_collection = config['mongo_collection_name']\n",
    "\n",
    "\n",
    "storage_account_url = config['storage_account_url']\n",
    "storage_container_name = config['storage_container_name']\n",
    "storage_file_name = config['storage_file_name']\n",
    "\n",
    "\n",
    "openai_endpoint = config['openai_endpoint']\n",
    "openai_key = config['openai_key']\n",
    "openai_version = config['openai_version']\n",
    "openai_embeddings_deployment = config['openai_embeddings_deployment']\n",
    "openai_embeddings_model = config['openai_embeddings_model']\n",
    "openai_embeddings_dimensions = int(config['openai_embeddings_dimensions'])\n",
    "openai_completions_deployment = config['openai_completions_deployment']\n",
    "openai_completions_model = config['openai_completions_model']\n"
   ]
  },
  {
   "cell_type": "markdown",
   "metadata": {},
   "source": [
    "# Connect and setup Cosmos DB for MongoDB vCore"
   ]
  },
  {
   "cell_type": "code",
   "execution_count": 5,
   "metadata": {},
   "outputs": [],
   "source": [
    "mongo_client = pymongo.MongoClient(mongo_conn)"
   ]
  },
  {
   "cell_type": "markdown",
   "metadata": {},
   "source": [
    "##  Set up the DB and collection"
   ]
  },
  {
   "cell_type": "code",
   "execution_count": null,
   "metadata": {},
   "outputs": [],
   "source": [
    "## Use only if re-reunning code and want to reset db and collection\n",
    "db = mongo_client[mongo_database]\n",
    "collection = db[mongo_collection]\n",
    "collection.drop_index(\"VectorSearchIndex\")\n",
    "mongo_client.drop_database(mongo_database)"
   ]
  },
  {
   "cell_type": "code",
   "execution_count": 6,
   "metadata": {},
   "outputs": [
    {
     "name": "stdout",
     "output_type": "stream",
     "text": [
      "Using collection: 'FabConfCollection'.\n",
      "\n"
     ]
    }
   ],
   "source": [
    "# Create the database FabConfDB\n",
    "db = mongo_client[mongo_database]\n",
    "\n",
    "collection = db[mongo_collection]\n",
    "\n",
    "# Create collection if it doesn't exist\n",
    "if mongo_collection not in db.list_collection_names():\n",
    "    # Creates a collection\n",
    "    db.create_collection(mongo_collection)\n",
    "    print(\"Created collection '{}'.\\n\".format(mongo_collection))\n",
    "else:\n",
    "    print(\"Using collection: '{}'.\\n\".format(mongo_collection))"
   ]
  },
  {
   "cell_type": "markdown",
   "metadata": {},
   "source": [
    "## Create the vector index\n",
    "\n",
    "**IMPORTANT: You can only create one index per vector property.** That is, you cannot create more than one index that points to the same vector property. If you want to change the index type (e.g., from IVF to HNSW) you must drop the index first before creating a new index."
   ]
  },
  {
   "cell_type": "markdown",
   "metadata": {},
   "source": [
    "### HNSW (preview)\n",
    "\n",
    "HNSW stands for Hierarchical Navigable Small World, a graph-based data structure that partitions vectors into clusters and subclusters. With HNSW, you can perform fast approximate nearest neighbor search at higher speeds with greater accuracy. HNSW is an approximate (ANN) method. As a preview feature, this must be enabled using Azure Feature Enablement Control (AFEC) by selecting the \"mongoHnswIndex\" feature. For more information, see [enable preview features](https://learn.microsoft.com/azure/azure-resource-manager/management/preview-features).\n",
    "\n",
    "HNSW works on M50 cluster tiers and higher while in preview."
   ]
  },
  {
   "cell_type": "code",
   "execution_count": null,
   "metadata": {},
   "outputs": [],
   "source": [
    "db.command(\n",
    "{ \n",
    "    \"createIndexes\": mongo_collection,\n",
    "    \"indexes\": [\n",
    "        {\n",
    "            \"name\": \"VectorSearchIndex\",\n",
    "            \"key\": {\n",
    "                \"contentVector\": \"cosmosSearch\"\n",
    "            },\n",
    "            \"cosmosSearchOptions\": { \n",
    "                \"kind\": \"vector-hnsw\", \n",
    "                \"m\": 16, # default value \n",
    "                \"efConstruction\": 64, # default value \n",
    "                \"similarity\": \"COS\", \n",
    "                \"dimensions\": openai_embeddings_dimensions\n",
    "            } \n",
    "        } \n",
    "    ] \n",
    "}\n",
    ")"
   ]
  },
  {
   "cell_type": "markdown",
   "metadata": {},
   "source": [
    "# Initialize the Azure OpenAI Client <a class=\"anchor\" id=\"initopenai\"></a>\n"
   ]
  },
  {
   "cell_type": "code",
   "execution_count": 7,
   "metadata": {},
   "outputs": [],
   "source": [
    "openai_client = AzureOpenAI(azure_endpoint=openai_endpoint, api_key=openai_key, api_version=openai_version)"
   ]
  },
  {
   "cell_type": "markdown",
   "metadata": {},
   "source": [
    "# Define a function to generate embeddings"
   ]
  },
  {
   "cell_type": "code",
   "execution_count": 8,
   "metadata": {},
   "outputs": [],
   "source": [
    "#@retry(wait=wait_random_exponential(min=1, max=20), stop=stop_after_attempt(10))\n",
    "def generate_embeddings(text):\n",
    "    '''\n",
    "    Generate embeddings from string of text.\n",
    "    This will be used to vectorize data and user input for interactions with Azure OpenAI.\n",
    "    '''\n",
    "    # OpenAI asks for a model but it's actually a deployment.\n",
    "    response = openai_client.embeddings.create(input = text, model = openai_embeddings_deployment, dimensions= openai_embeddings_dimensions)\n",
    "    embeddings = response.model_dump()\n",
    "    # print(embeddings[\"data\"])#['data'][0]['embedding'])\n",
    "    #time.sleep(0.5) # rest period to avoid rate limiting on AOAI for free tier\n",
    "    return embeddings['data'][0]['embedding']"
   ]
  },
  {
   "cell_type": "markdown",
   "metadata": {},
   "source": [
    "# Ingest, vectorize & store\n",
    "\n",
    "Read the data out of blob storage, generate vectors on it, then store in Mongo vCore"
   ]
  },
  {
   "cell_type": "code",
   "execution_count": 32,
   "metadata": {},
   "outputs": [
    {
     "name": "stdout",
     "output_type": "stream",
     "text": [
      "Data inserted into collection: 'FabConfCollection'.\n",
      "\n"
     ]
    }
   ],
   "source": [
    "# Create a blob service client\n",
    "blob_service_client = BlobServiceClient(account_url = storage_account_url)\n",
    "\n",
    "# Create a blob client for the json file\n",
    "blob_client = blob_service_client.get_blob_client( storage_container_name, storage_file_name)\n",
    "\n",
    "# Download the blob to a stream\n",
    "stream = blob_client.download_blob().readall()\n",
    "\n",
    "# Use ijson to parse the json file incrementally\n",
    "objects = ijson.items(stream, 'item')\n",
    "\n",
    "for obj in objects:\n",
    "    # serialize the object to a string\n",
    "    sObject = json.dumps(obj)\n",
    "    # generate an embedding for each object\n",
    "    vectorArray = generate_embeddings(sObject)\n",
    "\n",
    "    # add the embedding to the object\n",
    "    obj[\"contentVector\"] = vectorArray\n",
    "\n",
    "    #print(obj)\n",
    "\n",
    "    # insert the object into the collection\n",
    "    collection.insert_one(obj)\n",
    "\n",
    "print(\"Data inserted into collection: '{}'.\\n\".format(mongo_collection))"
   ]
  },
  {
   "cell_type": "markdown",
   "metadata": {},
   "source": [
    "# Vector Search in Cosmos DB for MongoDB vCore"
   ]
  },
  {
   "cell_type": "code",
   "execution_count": 9,
   "metadata": {},
   "outputs": [],
   "source": [
    "# Simple function to assist with vector search\n",
    "def vector_search(query, num_results=3):\n",
    "    query_embedding = generate_embeddings(query)\n",
    "    embeddings_list = []\n",
    "    pipeline = [\n",
    "        {\n",
    "            '$search': {\n",
    "                \"cosmosSearch\": {\n",
    "                    \"vector\": query_embedding,\n",
    "                    \"path\": \"contentVector\",\n",
    "                    \"k\": num_results #, \"efsearch\": 40 # optional for HNSW only \n",
    "                },\n",
    "                \"returnStoredSource\": True }},\n",
    "        {'$project': { 'similarityScore': { '$meta': 'searchScore' }, 'document' : '$$ROOT' } }\n",
    "    ]\n",
    "    results = collection.aggregate(pipeline)\n",
    "    return results"
   ]
  },
  {
   "cell_type": "markdown",
   "metadata": {},
   "source": [
    "Let's run a test query below."
   ]
  },
  {
   "cell_type": "code",
   "execution_count": null,
   "metadata": {
    "scrolled": true
   },
   "outputs": [],
   "source": [
    "query = \"What are the services for running ML models?\"\n",
    "results = vector_search(query)\n",
    "for result in results: \n",
    "#     print(result)\n",
    "    print(f\"Similarity Score: {result['similarityScore']}\")  \n",
    "    print(f\"Title: {result['document']['title']}\")  \n",
    "    print(f\"Content: {result['document']['content']}\")  \n",
    "    print(f\"Category: {result['document']['category']}\\n\")  "
   ]
  },
  {
   "cell_type": "markdown",
   "metadata": {},
   "source": [
    "# Q&A over the data with GPT\n",
    "\n",
    "Finally, we'll create a helper function to feed prompts into the `Completions` model. Then we'll create interactive loop where you can pose questions to the model and receive information grounded in your data."
   ]
  },
  {
   "cell_type": "code",
   "execution_count": 1,
   "metadata": {},
   "outputs": [],
   "source": [
    "#This function helps to ground the model with prompts and system instructions.\n",
    "\n",
    "def generate_completion(prompt):\n",
    "    system_prompt = '''\n",
    "    You are an intelligent assistant for Microsoft Azure services.\n",
    "    You are designed to provide helpful answers to user questions about Azure services given the information about to be provided.\n",
    "        - Only answer questions related to the information provided below, provide 3 clear suggestions in a list format.\n",
    "        - Write two lines of whitespace between each answer in the list.\n",
    "        - Only provide answers that have products that are part of Microsoft Azure.\n",
    "        - If you're unsure of an answer, you can say \"\"I don't know\"\" or \"\"I'm not sure\"\" and recommend users search themselves.\"\n",
    "    '''\n",
    "\n",
    "    messages=[\n",
    "        {\"role\": \"system\", \"content\": system_prompt},\n",
    "        {\"role\": \"user\", \"content\": prompt},\n",
    "    ]\n",
    "\n",
    "    #for item in results:\n",
    "    #    messages.append({\"role\": \"system\", \"content\": prompt['content']})\n",
    "\n",
    "    response = openai_client.chat.completions.create(model = openai_completions_deployment, messages=messages)\n",
    "    #print(response.dict())\n",
    "    return response.model_dump()"
   ]
  },
  {
   "cell_type": "code",
   "execution_count": null,
   "metadata": {},
   "outputs": [],
   "source": [
    "# Create a loop of user input and model output. You can now perform Q&A over the sample data!\n",
    "\n",
    "user_input = \"\"\n",
    "print(\"*** Please ask your model questions about Azure services. Type 'end' to end the session.\\n\")\n",
    "user_input = input(\"Prompt: \")\n",
    "while user_input.lower() != \"end\":\n",
    "    results_for_prompt = vector_search(user_input)\n",
    "   # print(f\"User Prompt: {user_input}\")\n",
    "    completions_results = generate_completion(results_for_prompt)\n",
    "    print(\"\\n\")\n",
    "    print(completions_results['choices'][0]['message']['content'])\n",
    "    user_input = input(\"Prompt: \")\n"
   ]
  }
 ],
 "metadata": {
  "kernelspec": {
   "display_name": "Python 3 (ipykernel)",
   "language": "python",
   "name": "python3"
  },
  "language_info": {
   "codemirror_mode": {
    "name": "ipython",
    "version": 3
   },
   "file_extension": ".py",
   "mimetype": "text/x-python",
   "name": "python",
   "nbconvert_exporter": "python",
   "pygments_lexer": "ipython3",
   "version": "3.11.8"
  },
  "varInspector": {
   "cols": {
    "lenName": 16,
    "lenType": 16,
    "lenVar": 40
   },
   "kernels_config": {
    "python": {
     "delete_cmd_postfix": "",
     "delete_cmd_prefix": "del ",
     "library": "var_list.py",
     "varRefreshCmd": "print(var_dic_list())"
    },
    "r": {
     "delete_cmd_postfix": ") ",
     "delete_cmd_prefix": "rm(",
     "library": "var_list.r",
     "varRefreshCmd": "cat(var_dic_list()) "
    }
   },
   "types_to_exclude": [
    "module",
    "function",
    "builtin_function_or_method",
    "instance",
    "_Feature"
   ],
   "window_display": false
  }
 },
 "nbformat": 4,
 "nbformat_minor": 4
}
